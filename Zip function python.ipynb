{
 "cells": [
  {
   "cell_type": "markdown",
   "metadata": {},
   "source": [
    "## Defination ##  \n",
    "\n",
    "The zip() function takes two or more iterables and returns an iterator that aggregates elements from each iterable.\n",
    "\n",
    "Note that since zip() returns an iterator, it can only be iterated over once. If you need to use the same pairs multiple times, you should convert the zip() object to a list or other data structure.\n"
   ]
  },
  {
   "cell_type": "markdown",
   "metadata": {},
   "source": [
    "### EXAMPLE ##"
   ]
  },
  {
   "cell_type": "code",
   "execution_count": 1,
   "metadata": {},
   "outputs": [
    {
     "name": "stdout",
     "output_type": "stream",
     "text": [
      "(1, 'a')\n",
      "(2, 'b')\n",
      "(3, 'c')\n"
     ]
    }
   ],
   "source": [
    "# define two lists\n",
    "list_1 = [1, 2, 3]\n",
    "list_2 = ['a', 'b', 'c']\n",
    "\n",
    "# use the zip function to combine the two lists\n",
    "zipped = zip(list_1, list_2)\n",
    "\n",
    "# iterate over the zipped object and print the pairs\n",
    "for pair in zipped:\n",
    "    print(pair)\n",
    "    \n",
    "# output:\n",
    "# (1, 'a')\n",
    "# (2, 'b')\n",
    "# (3, 'c')"
   ]
  },
  {
   "cell_type": "markdown",
   "metadata": {},
   "source": [
    " ### DESCRIPTION ###"
   ]
  },
  {
   "cell_type": "markdown",
   "metadata": {},
   "source": [
    "In the example above, list_1 and list_2 are passed as arguments to the zip() function to create an iterator that returns pairs of corresponding elements from both lists.The resulting zipped object is then iterated over using a for loop, and each pair of elements is printed."
   ]
  }
 ],
 "metadata": {
  "kernelspec": {
   "display_name": "Python 3",
   "language": "python",
   "name": "python3"
  },
  "language_info": {
   "codemirror_mode": {
    "name": "ipython",
    "version": 3
   },
   "file_extension": ".py",
   "mimetype": "text/x-python",
   "name": "python",
   "nbconvert_exporter": "python",
   "pygments_lexer": "ipython3",
   "version": "3.8.3"
  }
 },
 "nbformat": 4,
 "nbformat_minor": 4
}
